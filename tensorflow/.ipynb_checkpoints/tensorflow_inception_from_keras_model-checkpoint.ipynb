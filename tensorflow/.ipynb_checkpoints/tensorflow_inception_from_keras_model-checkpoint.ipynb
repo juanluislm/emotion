{
 "cells": [
  {
   "cell_type": "code",
   "execution_count": 1,
   "metadata": {},
   "outputs": [
    {
     "name": "stderr",
     "output_type": "stream",
     "text": [
      "/usr/local/lib/python3.6/site-packages/h5py/__init__.py:34: FutureWarning: Conversion of the second argument of issubdtype from `float` to `np.floating` is deprecated. In future, it will be treated as `np.float64 == np.dtype(float).type`.\n",
      "  from ._conv import register_converters as _register_converters\n"
     ]
    },
    {
     "name": "stdout",
     "output_type": "stream",
     "text": [
      "[[194  97 351 351]]\n"
     ]
    },
    {
     "data": {
      "text/plain": [
       "<Figure size 640x480 with 1 Axes>"
      ]
     },
     "metadata": {},
     "output_type": "display_data"
    }
   ],
   "source": [
    "emotion_model_path = 'models/emotion_mini_XCEPTION_48x48_0.63_5ms.hdf5.pb'\n",
    "import tensorflow as tf\n",
    "import cv2\n",
    "import matplotlib.pyplot as plt\n",
    "import numpy as np\n",
    "\n",
    "graph = tf.Graph()\n",
    "graph_def = tf.GraphDef()\n",
    "with open(emotion_model_path, \"rb\") as f:\n",
    "    graph_def.ParseFromString(f.read())\n",
    "with graph.as_default():\n",
    "    tf.import_graph_def(graph_def)\n",
    "\n",
    "    \n",
    "face_detector = cv2.CascadeClassifier('models/haarcascade_frontalface_default.xml')\n",
    "image = cv2.imread('test.jpg')\n",
    "gray_image = cv2.cvtColor(image, cv2.COLOR_BGR2GRAY)\n",
    "faces = face_detector.detectMultiScale(gray_image, 1.3, 5)\n",
    "print(faces)\n",
    "\n",
    "def apply_offsets(face_coordinates, offsets):\n",
    "    x, y, width, height = face_coordinates\n",
    "    x_off, y_off = offsets\n",
    "    return (x - x_off, x + width + x_off, y - y_off, y + height + y_off)\n",
    "emotion_offsets = (10, 20)\n",
    "\n",
    "for face_coordinates in faces:\n",
    "    x1, x2, y1, y2 = apply_offsets(face_coordinates, emotion_offsets)\n",
    "    gray_face = gray_image[y1:y2, x1:x2]\n",
    "    plt.imshow(gray_face, cmap='gray')\n",
    "    plt.show()"
   ]
  },
  {
   "cell_type": "code",
   "execution_count": 4,
   "metadata": {},
   "outputs": [
    {
     "data": {
      "image/png": "[encoded data removed]",
      "text/plain": [
       "<Figure size 432x288 with 1 Axes>"
      ]
     },
     "metadata": {},
     "output_type": "display_data"
    },
    {
     "name": "stdout",
     "output_type": "stream",
     "text": [
      "(1, 48, 48, 1)\n",
      "[[5.3791079e-04 6.8474637e-06 3.6371170e-04 9.9092042e-01 1.6709507e-03\n",
      "  8.5535820e-04 5.6448178e-03]]\n",
      "[5.3791079e-04 6.8474637e-06 3.6371170e-04 9.9092042e-01 1.6709507e-03\n",
      " 8.5535820e-04 5.6448178e-03]\n"
     ]
    }
   ],
   "source": [
    "input_name = 'import/input_1'\n",
    "output_name = 'import/output_node0'\n",
    "input_operation = graph.get_operation_by_name(input_name)\n",
    "output_operation = graph.get_operation_by_name(output_name)\n",
    "\n",
    "input_image = cv2.resize(gray_face, (48, 48))\n",
    "plt.imshow(input_image, cmap='gray')\n",
    "plt.show()\n",
    "\n",
    "# normalize\n",
    "input_image = (input_image / 255.0 - 0.5)*2\n",
    "input_image = np.expand_dims(input_image, 0)\n",
    "input_image = np.expand_dims(input_image, -1)\n",
    "print(input_image.shape)\n",
    "# t = tf.convert_to_tensor(input_image, dtype=np.float32)\n",
    "\n",
    "with tf.Session(graph=graph) as sess:\n",
    "    results = sess.run(output_operation.outputs[0], {\n",
    "        input_operation.outputs[0]: input_image\n",
    "    })\n",
    "print(results)\n",
    "results = np.squeeze(results)\n",
    "print(results)"
   ]
  },
  {
   "cell_type": "code",
   "execution_count": null,
   "metadata": {},
   "outputs": [],
   "source": []
  },
  {
   "cell_type": "code",
   "execution_count": null,
   "metadata": {},
   "outputs": [],
   "source": []
  }
 ],
 "metadata": {
  "kernelspec": {
   "display_name": "Python 3",
   "language": "python",
   "name": "python3"
  },
  "language_info": {
   "codemirror_mode": {
    "name": "ipython",
    "version": 3
   },
   "file_extension": ".py",
   "mimetype": "text/x-python",
   "name": "python",
   "nbconvert_exporter": "python",
   "pygments_lexer": "ipython3",
   "version": "3.6.4"
  }
 },
 "nbformat": 4,
 "nbformat_minor": 2
}
